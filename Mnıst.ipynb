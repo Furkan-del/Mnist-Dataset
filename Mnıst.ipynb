{
  "nbformat": 4,
  "nbformat_minor": 0,
  "metadata": {
    "colab": {
      "provenance": [],
      "toc_visible": true
    },
    "kernelspec": {
      "name": "python3",
      "display_name": "Python 3"
    },
    "language_info": {
      "name": "python"
    }
  },
  "cells": [
    {
      "cell_type": "code",
      "execution_count": 16,
      "metadata": {
        "id": "XPxrJih1Jjw4"
      },
      "outputs": [],
      "source": [
        "import tensorflow as tf\n",
        "from tensorflow import keras\n",
        "import pandas as pd\n",
        "import numpy as np\n",
        "from keras.layers import Conv2D,MaxPooling2D,Dense,Dropout,Flatten\n",
        "from keras.models import Sequential\n",
        "from keras.datasets import mnist\n",
        "from keras import backend as K\n",
        "import matplotlib.pyplot as plt\n"
      ]
    },
    {
      "cell_type": "code",
      "source": [
        "(X_train,y_train), (X_test,y_Test)=mnist.load_data()\n",
        "batch_size=128\n",
        "num_classes=10\n",
        "epochs=12\n",
        "img_rows=28\n",
        "img_col=28\n",
        "input_shape=(28,28,1)\n",
        "X_train = X_train.astype('float32')\n",
        "X_test = X_test.astype('float32')\n",
        "X_train /= 255\n",
        "X_test /= 255\n",
        "print('x_train shape:', X_train.shape)\n",
        "print(X_train.shape[0], 'train samples')\n",
        "print(X_test.shape[0], 'test samples')\n",
        "\n",
        "\n",
        "\n"
      ],
      "metadata": {
        "colab": {
          "base_uri": "https://localhost:8080/"
        },
        "id": "gBBH6tLfJnwm",
        "outputId": "56beb62e-1d85-4ae5-d991-94fef547a245"
      },
      "execution_count": 9,
      "outputs": [
        {
          "output_type": "stream",
          "name": "stdout",
          "text": [
            "Downloading data from https://storage.googleapis.com/tensorflow/tf-keras-datasets/mnist.npz\n",
            "11493376/11490434 [==============================] - 0s 0us/step\n",
            "11501568/11490434 [==============================] - 0s 0us/step\n",
            "x_train shape: (60000, 28, 28)\n",
            "60000 train samples\n",
            "10000 test samples\n"
          ]
        }
      ]
    },
    {
      "cell_type": "code",
      "source": [
        "y_train=keras.utils.to_categorical(y_train,num_classes)\n",
        "y_Test=keras.utils.to_categorical(y_Test,num_classes)"
      ],
      "metadata": {
        "id": "4g1zawpJP5e2"
      },
      "execution_count": 13,
      "outputs": []
    },
    {
      "cell_type": "code",
      "source": [
        "print(f\"Y train :{len(y_train)}\")\n",
        "print(f\"Y test : {len(y_Test)}\")"
      ],
      "metadata": {
        "colab": {
          "base_uri": "https://localhost:8080/"
        },
        "id": "6pTRI4WWQcep",
        "outputId": "26d4e013-c40d-490b-b767-e2aac2691bac"
      },
      "execution_count": 14,
      "outputs": [
        {
          "output_type": "stream",
          "name": "stdout",
          "text": [
            "Y train :60000\n",
            "Y test : 10000\n"
          ]
        }
      ]
    },
    {
      "cell_type": "code",
      "source": [
        "# deep learning model"
      ],
      "metadata": {
        "id": "96T3hFOAQ2y6"
      },
      "execution_count": 15,
      "outputs": []
    },
    {
      "cell_type": "code",
      "source": [
        "model=Sequential()\n",
        "model.add(Conv2D(32,(3,3),input_shape=input_shape,activation='relu'))\n",
        "model.add(MaxPooling2D(pool_size=(2,2)))\n",
        "model.add(Dropout(0.4))\n",
        "model.add(Flatten())\n",
        "model.add(Dense(128,activation='relu'))\n",
        "model.add(Dropout(0.5))\n",
        "model.add(Dense(10,activation='softmax'))\n"
      ],
      "metadata": {
        "id": "YG7zk0I-RAxR"
      },
      "execution_count": 21,
      "outputs": []
    },
    {
      "cell_type": "code",
      "source": [
        "model.compile(optimizer=keras.optimizers.Adadelta(),loss=keras.losses.categorical_crossentropy,metrics=['accuracy'])\n"
      ],
      "metadata": {
        "id": "z2rLSj2MTKDr"
      },
      "execution_count": 28,
      "outputs": []
    },
    {
      "cell_type": "code",
      "source": [
        "results=model.fit(X_train,y_train,batch_size=batch_size,epochs=epochs,validation_data=(X_test,y_Test))\n"
      ],
      "metadata": {
        "colab": {
          "base_uri": "https://localhost:8080/",
          "height": 701
        },
        "id": "2rr_DX5jTeb3",
        "outputId": "fc2a926b-ab14-4243-fbb8-e9506d0a1d70"
      },
      "execution_count": 29,
      "outputs": [
        {
          "output_type": "stream",
          "name": "stdout",
          "text": [
            "Epoch 1/12\n",
            "469/469 [==============================] - 50s 105ms/step - loss: 2.2949 - accuracy: 0.1312 - val_loss: 2.2511 - val_accuracy: 0.2210\n",
            "Epoch 2/12\n",
            "469/469 [==============================] - 31s 67ms/step - loss: 2.2473 - accuracy: 0.1860 - val_loss: 2.1988 - val_accuracy: 0.3464\n",
            "Epoch 3/12\n",
            "469/469 [==============================] - 31s 67ms/step - loss: 2.2003 - accuracy: 0.2430 - val_loss: 2.1446 - val_accuracy: 0.4935\n",
            "Epoch 4/12\n",
            "469/469 [==============================] - 31s 67ms/step - loss: 2.1511 - accuracy: 0.3025 - val_loss: 2.0867 - val_accuracy: 0.5909\n",
            "Epoch 5/12\n",
            "469/469 [==============================] - 32s 67ms/step - loss: 2.0987 - accuracy: 0.3585 - val_loss: 2.0241 - val_accuracy: 0.6624\n",
            "Epoch 6/12\n",
            "469/469 [==============================] - 32s 67ms/step - loss: 2.0412 - accuracy: 0.4094 - val_loss: 1.9564 - val_accuracy: 0.7085\n",
            "Epoch 7/12\n",
            "469/469 [==============================] - 31s 67ms/step - loss: 1.9828 - accuracy: 0.4515 - val_loss: 1.8849 - val_accuracy: 0.7395\n",
            "Epoch 8/12\n",
            "469/469 [==============================] - 31s 67ms/step - loss: 1.9194 - accuracy: 0.4856 - val_loss: 1.8107 - val_accuracy: 0.7581\n",
            "Epoch 9/12\n",
            "469/469 [==============================] - 31s 67ms/step - loss: 1.8514 - accuracy: 0.5196 - val_loss: 1.7351 - val_accuracy: 0.7709\n",
            "Epoch 10/12\n",
            "469/469 [==============================] - 31s 67ms/step - loss: 1.7867 - accuracy: 0.5443 - val_loss: 1.6589 - val_accuracy: 0.7817\n",
            "Epoch 11/12\n",
            "469/469 [==============================] - 31s 67ms/step - loss: 1.7197 - accuracy: 0.5678 - val_loss: 1.5831 - val_accuracy: 0.7882\n",
            "Epoch 12/12\n",
            "469/469 [==============================] - 31s 67ms/step - loss: 1.6535 - accuracy: 0.5885 - val_loss: 1.5081 - val_accuracy: 0.7929\n"
          ]
        },
        {
          "output_type": "display_data",
          "data": {
            "text/plain": [
              "<Figure size 432x288 with 1 Axes>"
            ],
            "image/png": "[encoded data removed]"
          },
          "metadata": {
            "needs_background": "light"
          }
        }
      ]
    },
    {
      "cell_type": "code",
      "source": [
        "plt.plot(results.history['accuracy'] ,label='loss')\n",
        "plt.plot(results.history['loss'],label='val_loss')\n",
        "plt.legend()\n",
        "plt.show()"
      ],
      "metadata": {
        "colab": {
          "base_uri": "https://localhost:8080/",
          "height": 265
        },
        "id": "9sW4PowbYL88",
        "outputId": "ba801cb2-b4d8-4db6-ad34-bbe2172753bb"
      },
      "execution_count": 31,
      "outputs": [
        {
          "output_type": "display_data",
          "data": {
            "text/plain": [
              "<Figure size 432x288 with 1 Axes>"
            ],
            "image/png": "[encoded data removed]"
          },
          "metadata": {
            "needs_background": "light"
          }
        }
      ]
    },
    {
      "cell_type": "code",
      "source": [
        "print(model.evaluate(X_test,y_Test))"
      ],
      "metadata": {
        "colab": {
          "base_uri": "https://localhost:8080/"
        },
        "id": "pqODp1htT_Qh",
        "outputId": "40a43617-9bb1-44b1-b812-981f7de7d2ba"
      },
      "execution_count": 32,
      "outputs": [
        {
          "output_type": "stream",
          "name": "stdout",
          "text": [
            "313/313 [==============================] - 4s 13ms/step - loss: 1.5081 - accuracy: 0.7929\n",
            "[1.5080573558807373, 0.792900025844574]\n"
          ]
        }
      ]
    },
    {
      "cell_type": "code",
      "source": [],
      "metadata": {
        "id": "fjgV75O9ZH5F"
      },
      "execution_count": null,
      "outputs": []
    }
  ]
}